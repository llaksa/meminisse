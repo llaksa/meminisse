{
 "cells": [
  {
   "cell_type": "code",
   "execution_count": 10,
   "metadata": {},
   "outputs": [],
   "source": [
    "const util = require('util');"
   ]
  },
  {
   "cell_type": "code",
   "execution_count": 11,
   "metadata": {
    "scrolled": true
   },
   "outputs": [
    {
     "name": "stdout",
     "output_type": "stream",
     "text": [
      "hello world\n"
     ]
    }
   ],
   "source": [
    "async function fn1() {\n",
    "  return 'hello world';\n",
    "}\n",
    "const callbackFunction1 = util.callbackify(fn1);\n",
    "\n",
    "callbackFunction1((err, ret) => {\n",
    "  if (err) throw err;\n",
    "  console.log(ret);\n",
    "});"
   ]
  },
  {
   "cell_type": "code",
   "execution_count": 12,
   "metadata": {},
   "outputs": [
    {
     "name": "stdout",
     "output_type": "stream",
     "text": [
      "undefined\n"
     ]
    }
   ],
   "source": [
    "function fn2() {\n",
    "  return Promise.reject(null);\n",
    "}\n",
    "const callbackFunction2 = util.callbackify(fn2);\n",
    "\n",
    "callbackFunction2((err, ret) => {\n",
    "  // When the Promise was rejected with `null` it is wrapped with an Error and\n",
    "  // the original value is stored in `reason`.\n",
    "  err && err.hasOwnProperty('reason') && err.reason === null;  // true\n",
    "});"
   ]
  },
  {
   "cell_type": "code",
   "execution_count": 13,
   "metadata": {},
   "outputs": [],
   "source": [
    "const fs = require('fs');\n",
    "const stat = util.promisify(fs.stat);"
   ]
  },
  {
   "cell_type": "code",
   "execution_count": 14,
   "metadata": {},
   "outputs": [],
   "source": [
    "stat('.').then((stats) => {\n",
    "  // Do something with `stats`\n",
    "}).catch((error) => {\n",
    "  // Handle the error.\n",
    "});"
   ]
  },
  {
   "cell_type": "code",
   "execution_count": 27,
   "metadata": {},
   "outputs": [],
   "source": [
    "async function callStat() {\n",
    "  const stats = await stat('.');\n",
    "  console.log(`This directory is owned by ${stats.uid}`);\n",
    "}"
   ]
  },
  {
   "cell_type": "code",
   "execution_count": 28,
   "metadata": {},
   "outputs": [],
   "source": [
    "function hola () {\n",
    "    console.log(1111111111111)\n",
    "    function hola2 () {\n",
    "        console.log('222222222')\n",
    "    }\n",
    "}"
   ]
  },
  {
   "cell_type": "code",
   "execution_count": 33,
   "metadata": {},
   "outputs": [
    {
     "name": "stdout",
     "output_type": "stream",
     "text": [
      "1111111111111\n"
     ]
    }
   ],
   "source": []
  },
  {
   "cell_type": "code",
   "execution_count": null,
   "metadata": {},
   "outputs": [],
   "source": []
  }
 ],
 "metadata": {
  "kernelspec": {
   "display_name": "Javascript (Node.js)",
   "language": "javascript",
   "name": "javascript"
  },
  "language_info": {
   "file_extension": ".js",
   "mimetype": "application/javascript",
   "name": "javascript",
   "version": "8.10.0"
  }
 },
 "nbformat": 4,
 "nbformat_minor": 2
}
