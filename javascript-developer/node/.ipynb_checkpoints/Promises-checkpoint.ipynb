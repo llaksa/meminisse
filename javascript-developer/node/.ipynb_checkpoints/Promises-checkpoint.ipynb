{
 "cells": [
  {
   "cell_type": "code",
   "execution_count": 62,
   "metadata": {},
   "outputs": [
    {
     "name": "stdout",
     "output_type": "stream",
     "text": [
      "lets test an error\n"
     ]
    }
   ],
   "source": [
    "// something can be a String, Number, Object, Function, etc \n",
    "var something = {q: 1, w: 2}\n",
    "var promise = new Promise((fulfilled, rejected) => {\n",
    "    throw('lets test an error')\n",
    "    fulfilled(something)\n",
    "    rejected(new Error('wuooooooo'))\n",
    "})\n",
    ".then(result => console.log(result))\n",
    ".catch(error => console.log(error))"
   ]
  },
  {
   "cell_type": "code",
   "execution_count": 61,
   "metadata": {},
   "outputs": [
    {
     "name": "stdout",
     "output_type": "stream",
     "text": [
      "condition was false :(\n"
     ]
    }
   ],
   "source": [
    "var someCondition = false // try changing it to false\n",
    "var callback = r1 => console.log(r1)\n",
    "var promise2 = new Promise((fulfilled, rejected) => {\n",
    "    if (someCondition) {\n",
    "        fulfilled(callback)\n",
    "    } else {\n",
    "        rejected(new Error('condition was false :('))\n",
    "    }\n",
    "})\n",
    "\n",
    "var ttt = function () {\n",
    "    promise2\n",
    "        .then(cb => cb('I am a callback'))\n",
    "        .catch(error => console.log(error.message))\n",
    "}\n",
    "\n",
    "ttt()"
   ]
  },
  {
   "cell_type": "code",
   "execution_count": 59,
   "metadata": {},
   "outputs": [
    {
     "name": "stdout",
     "output_type": "stream",
     "text": [
      "mom is not happy\n"
     ]
    }
   ],
   "source": [
    "/* ES5 */\n",
    "var isMomHappy = false;\n",
    "\n",
    "// Promise\n",
    "var willIGetNewPhone = new Promise(\n",
    "    function (resolve, reject) {\n",
    "        if (isMomHappy) {\n",
    "            var phone = {\n",
    "                brand: 'Samsung',\n",
    "                color: 'black'\n",
    "            };\n",
    "            resolve(phone); // fulfilled\n",
    "        } else {\n",
    "            var reason = new Error('mom is not happy');\n",
    "            reject(reason); // reject\n",
    "        }\n",
    "\n",
    "    }\n",
    ");\n",
    "\n",
    "// call our promise\n",
    "var askMom = function () {\n",
    "    willIGetNewPhone\n",
    "        .then(function (fulfilled) {\n",
    "            // yay, you got a new phone\n",
    "            console.log(fulfilled);\n",
    "         // output: { brand: 'Samsung', color: 'black' }\n",
    "        })\n",
    "        .catch(function (error) {\n",
    "            // oops, mom don't buy it\n",
    "            console.log(error.message);\n",
    "         // output: 'mom is not happy'\n",
    "        });\n",
    "};\n",
    "\n",
    "askMom();"
   ]
  },
  {
   "cell_type": "code",
   "execution_count": null,
   "metadata": {},
   "outputs": [],
   "source": []
  },
  {
   "cell_type": "code",
   "execution_count": null,
   "metadata": {},
   "outputs": [],
   "source": []
  }
 ],
 "metadata": {
  "kernelspec": {
   "display_name": "Javascript (Node.js)",
   "language": "javascript",
   "name": "javascript"
  },
  "language_info": {
   "file_extension": ".js",
   "mimetype": "application/javascript",
   "name": "javascript",
   "version": "8.10.0"
  }
 },
 "nbformat": 4,
 "nbformat_minor": 2
}
