{
 "cells": [
  {
   "cell_type": "code",
   "execution_count": null,
   "metadata": {
    "autoscroll": false,
    "collapsed": false,
    "ein.tags": "worksheet-0",
    "slideshow": {
     "slide_type": "-"
    }
   },
   "outputs": [],
   "source": [
    "let base = 55;\n",
    "let height =77;"
   ]
  },
  {
   "cell_type": "code",
   "execution_count": null,
   "metadata": {
    "autoscroll": false,
    "collapsed": false,
    "ein.tags": "worksheet-0",
    "slideshow": {
     "slide_type": "-"
    }
   },
   "outputs": [],
   "source": [
    "function triangleArea1(base, height) {\n",
    "    return base * height / 2;\n",
    "}\n",
    "\n",
    "console.log(`El área de un triángulo de base ${base} y altura ${height} es: ${triangleArea1(base, height)}`)"
   ]
  },
  {
   "cell_type": "code",
   "execution_count": null,
   "metadata": {
    "autoscroll": false,
    "collapsed": false,
    "ein.tags": "worksheet-0",
    "slideshow": {
     "slide_type": "-"
    }
   },
   "outputs": [],
   "source": [
    "const triangleArea2 = (base, height) => base * height / 2;\n",
    "\n",
    "console.log(`El área de un triángulo de base ${base} y altura ${height} es: ${triangleArea2(base, height)}`)"
   ]
  },
  {
   "cell_type": "code",
   "execution_count": null,
   "metadata": {
    "autoscroll": false,
    "collapsed": false,
    "ein.tags": "worksheet-0",
    "slideshow": {
     "slide_type": "-"
    }
   },
   "outputs": [],
   "source": [
    "function platzom(str) {\n",
    "    let translation = str;\n",
    "    \n",
    "    // si la palabra termina en ar, se le quitan esos dos caracteres\n",
    "    if (str.toLowerCase().endsWith('ar')) {\n",
    "        translation = str.slice(0, -2)\n",
    "    }\n",
    "    \n",
    "    // si la palabra empieza con z, se le añade 'pe' al final\n",
    "    if (str.toLowerCase().startsWith('z')) {\n",
    "        translation += 'pe';\n",
    "    }\n",
    "    \n",
    "    // si la palabra traducida tiene 10 o más letras,\n",
    "    // se debe partir a la mitad y unir con un guión en medio\n",
    "    let length = translation.length;\n",
    "    if ( length >= 10 ) {\n",
    "        const firstHalf = translation.slice(0, Math.round(length / 2));\n",
    "        const secondHalf = translation.slice(Math.round(length / 2));\n",
    "        translation = `${firstHalf}-${secondHalf}`;\n",
    "    }\n",
    "    \n",
    "    // si la palabra original es un palídromo,\n",
    "    // ninguna regla anterior cuenta y se devuelve\n",
    "    // la misma palabra intercalando mayúsculas y minúsculas\n",
    "    \n",
    "    const reverse = (str) => str.split('').reverse().join('');\n",
    "    \n",
    "    function minMay(str) {\n",
    "        const length = str.length;\n",
    "        let translation = '';\n",
    "        let capitalize = true;\n",
    "        for (let i = 0; i < length; i++) {\n",
    "            const char = str.charAt(i);\n",
    "            translation += capitalize ? char.toUpperCase() : char.toLowerCase();\n",
    "            capitalize = !capitalize;\n",
    "        }\n",
    "        return translation;\n",
    "    }\n",
    "    \n",
    "    if (str == reverse(str)) {\n",
    "        return minMay(str);\n",
    "    }\n",
    "    \n",
    "    return translation;\n",
    "}\n",
    "\n",
    "console.log(platzom('Programar')); //program\n",
    "console.log(platzom('Zorro'));  // Zorrope\n",
    "console.log(platzom('Zarpar')); // Zarparpe\n",
    "console.log(platzom('abecedario')); // abece-dario\n",
    "console.log(platzom('reconocer'));"
   ]
  },
  {
   "cell_type": "code",
   "execution_count": null,
   "metadata": {
    "autoscroll": false,
    "collapsed": false,
    "ein.tags": "worksheet-0",
    "slideshow": {
     "slide_type": "-"
    }
   },
   "outputs": [],
   "source": [
    "const nombre = 'Sacha'\n",
    "const dias = [\n",
    "    'lunes',\n",
    "    'martes',\n",
    "    'miércoles',\n",
    "    'jueves',\n",
    "    'viernes',\n",
    "    'sábado',\n",
    "    'domingo'\n",
    "]\n",
    "\n",
    "function correr() {\n",
    "    const min = 5;\n",
    "    const max = 15;\n",
    "    return Math.floor(Math.random() * (max - min) + min)\n",
    "}\n",
    "\n",
    "let totalKm = 0;\n",
    "let numDias = dias.length;\n",
    "\n",
    "for (let i = 0; i < numDias; i++) {\n",
    "    const km = correr();\n",
    "    totalKm += km\n",
    "    console.log(`El día ${dias[i]}, ${nombre} corrió ${km} km`);\n",
    "}\n",
    "\n",
    "const promedioKm = totalKm / numDias;\n",
    "console.log(`En promedio, ${nombre} corrió ${promedioKm.toFixed(2)}`);"
   ]
  },
  {
   "cell_type": "code",
   "execution_count": null,
   "metadata": {
    "autoscroll": false,
    "collapsed": false,
    "ein.tags": "worksheet-0",
    "slideshow": {
     "slide_type": "-"
    }
   },
   "outputs": [],
   "source": [
    "let gokuLife = 100;\n",
    "let supermanLife = 100;\n",
    "\n",
    "const MIN_POWER = 5;\n",
    "const MAX_POWER = 15;\n",
    "\n",
    "const theyAreStillAlive = () => {\n",
    "    return gokuLife > 0 && supermanLife > 0;\n",
    "}\n",
    "\n",
    "const gokuAtackValue = () => Math.random() * (MAX_POWER - MIN_POWER) + MIN_POWER;\n",
    "const supermanAtackValue = () => Math.random() * (MAX_POWER - MIN_POWER) + MIN_POWER;\n",
    "\n",
    "let round = 1;\n",
    "\n",
    "while (theyAreStillAlive()) {\n",
    "    gokuLife = gokuLife - supermanAtackValue();\n",
    "    supermanLife = supermanLife - gokuAtackValue();\n",
    "    round++;\n",
    "}\n",
    "\n",
    "const winner = gokuLife > supermanLife ? 'Goku': 'Superman';\n",
    "\n",
    "console.log(`La batalla terminó en el raund ${round}, el ganador fue ${winner}`);"
   ]
  },
  {
   "cell_type": "code",
   "execution_count": null,
   "metadata": {
    "autoscroll": false,
    "collapsed": false,
    "ein.tags": "worksheet-0",
    "slideshow": {
     "slide_type": "-"
    }
   },
   "outputs": [],
   "source": [
    "const nacimiento = new Date(1993, 10, 8); // my birthday\n",
    "const hoy = new Date(); // fecha de hoy\n",
    "const time = hoy - nacimiento; // tiempo transcurrido en milisegundos\n",
    "console.log(time);"
   ]
  },
  {
   "cell_type": "code",
   "execution_count": null,
   "metadata": {
    "autoscroll": false,
    "collapsed": false,
    "ein.tags": "worksheet-0",
    "slideshow": {
     "slide_type": "-"
    }
   },
   "outputs": [],
   "source": [
    "function Punto(x, y) {\n",
    "    this.x = x;\n",
    "    this.y = y;\n",
    "}\n",
    "\n",
    "Punto.prototype.movX = function movX(x) {\n",
    "    this.x += x;\n",
    "}\n",
    "\n",
    "Punto.prototype.movY = function movY(y) {\n",
    "    this.y += y;\n",
    "}\n",
    "\n",
    "Punto.prototype.relativeDistance = function(punto) {\n",
    "    const x = this.x - punto.x;\n",
    "    const y = this.y - punto.y;\n",
    "    \n",
    "    return Math.sqrt(x * x + y * y);\n",
    "}\n",
    "\n",
    "const p1 = new Punto(0, 4);\n",
    "const p2 = new Punto(3, 0);\n",
    "\n",
    "console.log(p1.relativeDistance(p2));"
   ]
  },
  {
   "cell_type": "code",
   "execution_count": null,
   "metadata": {
    "autoscroll": false,
    "collapsed": false,
    "ein.tags": "worksheet-0",
    "slideshow": {
     "slide_type": "-"
    }
   },
   "outputs": [],
   "source": [
    "class Point {\n",
    "    constructor(x, y) {\n",
    "        this.x = x;\n",
    "        this.y = y;\n",
    "    }\n",
    "    \n",
    "    movx(x) {\n",
    "        this.x += x;\n",
    "    }\n",
    "    \n",
    "    movy(y) {\n",
    "        this.y += y;\n",
    "    }\n",
    "    \n",
    "    relativeDist(otherPoint) {\n",
    "        const x = this.x - otherPoint.x;\n",
    "        const y = this.y - otherPoint.y;\n",
    "        \n",
    "        return Math.sqrt(x * x + y * y);\n",
    "    }\n",
    "}\n",
    "\n",
    "class ColorPoint extends Point {\n",
    "    constructor(x, y, color) {\n",
    "        super(x, y);\n",
    "        this.color = color;\n",
    "    }\n",
    "    toString() {\n",
    "        return super.toString() + ' in ' + this.color;\n",
    "    }\n",
    "}\n",
    "\n",
    "let cp = new ColorPoint(25, 8, 'green');\n",
    "cp.toString(); // '(25, 8) in green'\n",
    "\n",
    "console.log(cp instanceof ColorPoint); // true\n",
    "console.log(cp instanceof Point); // true\n",
    "\n",
    "const p3 = new Point(5, 7);\n",
    "p3"
   ]
  },
  {
   "cell_type": "code",
   "execution_count": null,
   "metadata": {
    "autoscroll": false,
    "collapsed": false,
    "ein.tags": "worksheet-0",
    "slideshow": {
     "slide_type": "-"
    }
   },
   "outputs": [],
   "source": [
    "function suma1(...sumandos) {\n",
    "    let acum = 0;\n",
    "    for (let i = 0; i < sumandos.length; i++) {\n",
    "        acum += sumandos[i];\n",
    "    }\n",
    "    return acum;\n",
    "}\n",
    "\n",
    "// el valor inicial de acum es el segundo parámetro de reduce\n",
    "const suma2 = (...sumandos) => sumandos.reduce( (acum, sumando) => {\n",
    "    console.log(acum);\n",
    "    acum += sumando;\n",
    "    return acum;\n",
    "    }, 0)\n",
    "\n",
    "suma1(2, 3, 4, 6, 7)\n",
    "\n",
    "suma2(1, 3, 5)"
   ]
  },
  {
   "cell_type": "code",
   "execution_count": null,
   "metadata": {
    "autoscroll": false,
    "collapsed": false,
    "ein.tags": "worksheet-0",
    "slideshow": {
     "slide_type": "-"
    }
   },
   "outputs": [],
   "source": [
    "function dobles1(...numeros) {\n",
    "    const resultado = [];\n",
    "    for (let i = 0; i < numeros.length; i++) {\n",
    "        resultado.push(numeros[i] * 2)\n",
    "    }\n",
    "    return resultado;\n",
    "}\n",
    "\n",
    "const dobles2 = (...numeros) => numeros.map( (numero) => numero * 2 );\n",
    "\n",
    "dobles1(1, 2, 3)\n",
    "\n",
    "dobles2(2, 4, 6)"
   ]
  },
  {
   "cell_type": "code",
   "execution_count": null,
   "metadata": {
    "autoscroll": false,
    "collapsed": false,
    "ein.tags": "worksheet-0",
    "slideshow": {
     "slide_type": "-"
    }
   },
   "outputs": [],
   "source": [
    "const pares = (...numeros) => numeros.filter( (numero) => numero % 2 == 0 );\n",
    "pares(1, 2, 5, 8, 3, 6)"
   ]
  },
  {
   "cell_type": "code",
   "execution_count": null,
   "metadata": {
    "autoscroll": false,
    "collapsed": false,
    "ein.tags": "worksheet-0",
    "slideshow": {
     "slide_type": "-"
    }
   },
   "outputs": [],
   "source": [
    "function saludarFamilia(apellido) {\n",
    "  return (nombre) => console.log(`Hola ${nombre} ${apellido}`)\n",
    "}\n",
    "\n",
    "let saludarPerez = saludarFamilia('perez');\n",
    "\n",
    "saludarPerez('José')\n",
    "\n",
    "// De esta forma podemos crear nuevas funciones partiendo de funciones que recuerdan variables internas"
   ]
  },
  {
   "cell_type": "code",
   "execution_count": null,
   "metadata": {
    "autoscroll": false,
    "collapsed": false,
    "ein.tags": "worksheet-0",
    "slideshow": {
     "slide_type": "-"
    }
   },
   "outputs": [],
   "source": [
    "TENER CUIDADO CON LAS EXPRESIONES TIPO IIFE PARA DEJAR DE ESCRIBIR EL PUNTO Y COMA\n",
    "https://en.wikipedia.org/wiki/Immediately-invoked_function_expression"
   ]
  },
  {
   "cell_type": "code",
   "execution_count": null,
   "metadata": {
    "autoscroll": false,
    "collapsed": false,
    "ein.tags": "worksheet-0",
    "slideshow": {
     "slide_type": "-"
    }
   },
   "outputs": [],
   "source": [
    "class Persona1 {\n",
    "    constructor(nombre, amigos = []) {\n",
    "        this.nombre = nombre // This hace referencia a Persona\n",
    "        this.amigos = amigos // This hace referencia a Persona\n",
    "    }\n",
    "    \n",
    "    listarAmigos() {\n",
    "        this.amigos.forEach(function (amigo) { //En esta línea se manipula el This, por lo que se setea en undefined\n",
    "            console.log(`Hola mi nombre es ${this.nombre} y soy amigo de ${amigo}`)  // Aquí this es undefined\n",
    "        }.bind(this))\n",
    "    }\n",
    "}\n",
    "\n",
    "const irvin = new Persona1('pers1', ['pers2', 'pers3', 'pers4'])\n",
    "irvin"
   ]
  },
  {
   "cell_type": "code",
   "execution_count": null,
   "metadata": {
    "autoscroll": false,
    "collapsed": false,
    "ein.tags": "worksheet-0",
    "scrolled": true,
    "slideshow": {
     "slide_type": "-"
    }
   },
   "outputs": [],
   "source": [
    "irvin.listarAmigos()"
   ]
  },
  {
   "cell_type": "code",
   "execution_count": null,
   "metadata": {
    "autoscroll": false,
    "collapsed": false,
    "ein.tags": "worksheet-0",
    "slideshow": {
     "slide_type": "-"
    }
   },
   "outputs": [],
   "source": [
    "class Persona2 {\n",
    "    constructor(nombre, amigos = []) {\n",
    "        this.nombre = nombre // This hace referencia a Persona\n",
    "        this.amigos = amigos // This hace referencia a Persona\n",
    "    }\n",
    "    \n",
    "    listarAmigos() {\n",
    "        this.amigos.forEach( (amigo) => console.log(`Hola mi nombre es ${this.nombre} y soy amigo de ${amigo}`) )\n",
    "    }\n",
    "}\n",
    "\n",
    "const jair = new Persona2('pers1', ['pers2', 'pers3', 'pers4'])\n",
    "jair"
   ]
  },
  {
   "cell_type": "code",
   "execution_count": null,
   "metadata": {
    "autoscroll": false,
    "collapsed": false,
    "ein.tags": "worksheet-0",
    "slideshow": {
     "slide_type": "-"
    }
   },
   "outputs": [],
   "source": [
    "jair.listarAmigos()"
   ]
  },
  {
   "cell_type": "code",
   "execution_count": null,
   "metadata": {
    "autoscroll": false,
    "collapsed": false,
    "ein.tags": "worksheet-0",
    "slideshow": {
     "slide_type": "-"
    }
   },
   "outputs": [],
   "source": [
    "// BUSCAR EJEMPLO DE BIND"
   ]
  },
  {
   "cell_type": "code",
   "execution_count": null,
   "metadata": {
    "autoscroll": false,
    "collapsed": false,
    "ein.tags": "worksheet-0",
    "slideshow": {
     "slide_type": "-"
    }
   },
   "outputs": [],
   "source": [
    "// BUSCAR EJEMPLO DE APPLY"
   ]
  },
  {
   "cell_type": "code",
   "execution_count": null,
   "metadata": {
    "autoscroll": false,
    "collapsed": false,
    "ein.tags": "worksheet-0",
    "slideshow": {
     "slide_type": "-"
    }
   },
   "outputs": [],
   "source": [
    "// BUSCAR EJEMPLO DE CALL"
   ]
  },
  {
   "cell_type": "code",
   "execution_count": null,
   "metadata": {
    "autoscroll": false,
    "collapsed": false,
    "ein.tags": "worksheet-0",
    "slideshow": {
     "slide_type": "-"
    }
   },
   "outputs": [],
   "source": [
    "// CORRER EN CODEPEN\n",
    "\n",
    "function get(URL, callback) {\n",
    "    const xhr = new XMLHttpRequest();\n",
    "\n",
    "    xhr.onreadystatechange = function () {\n",
    "        const DONE = 4;    const OK = 200;\n",
    "        if (this.readyState == DONE) { // se hizo bien el request?\n",
    "            if (this.status === OK) { // el estado del request es ok(200) ? \n",
    "                callback(null, this.responseText) // todo OK\n",
    "            } else {\n",
    "                callback(new Error(`Se produjo un error al realizar el request: ${this.status}`) // hubo un error\n",
    "            }\n",
    "        }\n",
    "    }\n",
    "    \n",
    "    xhr.open('GET', URL);\n",
    "    xhr.send(null);\n",
    "}           "
   ]
  },
  {
   "cell_type": "code",
   "execution_count": 1,
   "metadata": {
    "autoscroll": false,
    "collapsed": false,
    "ein.tags": "worksheet-0",
    "slideshow": {
     "slide_type": "-"
    }
   },
   "outputs": [],
   "source": [
    "// REVISAR EJEMPLO INDEX.HTML (fetch, promise, etc)"
   ]
  },
  {
   "cell_type": "code",
   "execution_count": 2,
   "metadata": {
    "autoscroll": false,
    "collapsed": false,
    "ein.tags": "worksheet-0",
    "slideshow": {
     "slide_type": "-"
    }
   },
   "outputs": [
    {
     "ename": "SyntaxError",
     "evalue": "Unexpected token {",
     "output_type": "error",
     "traceback": [
      "evalmachine.<anonymous>:2",
      "functionfibonacci(){",
      "                   ^",
      "SyntaxError: Unexpected token {",
      "    at Object.exports.runInThisContext (vm.js:76:16)",
      "    at run ([eval]:971:15)",
      "    at onRunRequest ([eval]:798:18)",
      "    at onMessage ([eval]:758:13)",
      "    at emitTwo (events.js:106:13)",
      "    at process.emit (events.js:191:7)",
      "    at process.nextTick (internal/child_process.js:719:12)",
      "    at _combinedTickCallback (internal/process/next_tick.js:67:7)",
      "    at process._tickCallback (internal/process/next_tick.js:98:9)"
     ]
    }
   ],
   "source": [
    "//---------- FORMA 1 -----------------------//\n",
    "functionfibonacci(){\n",
    "\tlet a=0, b=1\n",
    "\t//Closure\n",
    "\treturn{\n",
    "\t\tnext: function() {\n",
    "\t\t let f= a\n",
    "\t\t a = b\n",
    "\t\t b = f + a\n",
    "\t\t return{ value: f, done: false}\n",
    "\t\t}\n",
    "\t}\n",
    "}\n",
    "\n",
    "const fibo = fibonacci()\n",
    "\n",
    "fibo.next().value\n",
    "\n",
    "// ----- FORMA 2 ----------//\n",
    "\n",
    "functionfibonacci(){\n",
    "\tlet a=0, b=1\n",
    "\t//Closure\n",
    "\treturn{\n",
    "\t\tnext: function() {\n",
    "\t\t let f= a\n",
    "\t\t a = b\n",
    "\t\t b = f + a\n",
    "\t\t return{ value: f, done: false}\n",
    "\t\t}\n",
    "\t}\n",
    "}\n",
    "\n",
    "const fibo = {}\n",
    "fibo[Symbol.iterator] = fibonacci \n",
    "\n",
    "let i=0\n",
    "for (let value of fibo) {\n",
    "    console.log(value)\n",
    "    i++\n",
    "    if(i>20) break\n",
    "}"
   ]
  },
  {
   "cell_type": "code",
   "execution_count": null,
   "metadata": {
    "autoscroll": false,
    "collapsed": false,
    "ein.tags": "worksheet-0",
    "slideshow": {
     "slide_type": "-"
    }
   },
   "outputs": [],
   "source": [
    "// buscar uso de yield"
   ]
  }
 ],
 "metadata": {
  "kernelspec": {
   "display_name": "Javascript (Node.js)",
   "language": "javascript",
   "name": "javascript"
  },
  "language_info": {
   "file_extension": ".js",
   "mimetype": "application/javascript",
   "name": "javascript",
   "version": "6.3.1"
  },
  "name": "FUNDAMENTOS JAVASCRIPT.ipynb"
 },
 "nbformat": 4,
 "nbformat_minor": 2
}
